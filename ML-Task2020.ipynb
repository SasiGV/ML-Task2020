{
 "cells": [
  {
   "cell_type": "markdown",
   "metadata": {},
   "source": [
    "## Machine Learning - Tasks 2020"
   ]
  },
  {
   "cell_type": "markdown",
   "metadata": {},
   "source": [
    "### Task 1 - Square Root\n",
    "\n",
    "Write a Python function called sqrt2 that calculates and prints to the screen the square root of 2 to 100 decimal places. Your code should not depend on any module from the standard library1 or otherwise. You should research the task first and include references and a description of your algorithm.\n"
   ]
  },
  {
   "cell_type": "markdown",
   "metadata": {},
   "source": [
    "#### Square Root\n",
    "\n",
    "In mathematics, a square root of a number x is a number y such that y2 = x; in other words, a number y whose square (the result of multiplying the number by itself, or y ⋅ y) is x.[1.1]"
   ]
  },
  {
   "cell_type": "markdown",
   "metadata": {},
   "source": [
    "#### Methods of computing Square roots\n",
    "\n",
    "Methods of computing square roots are numerical analysis algorithms for finding the principal, or non-negative, square root (usually denoted √S, 2√S, or S1/2) of a real number. Arithmetically, it means given S, a procedure for finding a number which when multiplied by itself, yields S; algebraically, it means a procedure for finding the non-negative root of the equation x2 - S = 0; geometrically, it means given the area of a square, a procedure for constructing a side of the square.\n",
    "\n",
    "Every real number has two square roots.In addition to the principal square root, there is a negative square root equal in magnitude but opposite in sign to the principal square root, except for zero, which has double square roots of zero. The principal square root of most numbers is an irrational number with an infinite decimal expansion. As a result, the decimal expansion of any such square root can only be computed to some finite-precision approximation. However, even if we are taking the square root of a perfect square integer, so that the result does have an exact finite representation, the procedure used to compute it may only return a series of increasingly accurate approximations.\n",
    "\n",
    "The most common analytical methods are iterative and consist of two steps: finding a suitable starting value, followed by iterative refinement until some termination criteria is met. The starting value can be any number, but fewer iterations will be required the closer it is to the final result. The most familiar such method, most suited for programmatic calculation, is Newton's method, which is based on a property of the derivative in the calculus. "
   ]
  },
  {
   "cell_type": "markdown",
   "metadata": {},
   "source": [
    "#### Newton's method \n",
    "Newton’s method, also known as Newton-Raphson method is a root-finding algorithm that produces successively better approximations of the roots of a real-valued function. The approximations of the root go as:\n",
    "x_(n+1) = x_n - f(x_n) / f’(x_n)\n",
    "x_0 is the rough approximation of the root done at the first and the successive approximations go as x_1, x_2, ….\n",
    "f(x_n) is the function whose root is to be determined and f’(x_n) is the derivative of the function.[1.3]\n"
   ]
  },
  {
   "cell_type": "code",
   "execution_count": 39,
   "metadata": {},
   "outputs": [],
   "source": [
    "# Function to calculate square root using Newton't method\n",
    "\n",
    "# n - used to get input from user\n",
    "# DP - used to define the number of decimal places\n",
    "def NewtonSqRoot(n, DP):\n",
    "    \n",
    "    #set the loop counter\n",
    "    i = 1\n",
    "    x = n\n",
    "    \n",
    "    # Set the initial guess for the square root \n",
    "    y = (x + 1) / 2\n",
    "    \n",
    "    # loop will run until the new guess is less than the previous guess\n",
    "    while y < x:\n",
    "        x = y\n",
    "        y = (x + (n / x)) / 2\n",
    "        \n",
    "        print(i, \"={:.{}f}\".format(x, DP))\n",
    "        i += 1\n",
    "    "
   ]
  },
  {
   "cell_type": "code",
   "execution_count": 40,
   "metadata": {},
   "outputs": [
    {
     "name": "stdout",
     "output_type": "stream",
     "text": [
      "1 =1.5000000000000000000000000000000000000000000000000000000000000000000000000000000000000000000000000000\n",
      "2 =1.4166666666666665186369300499791279435157775878906250000000000000000000000000000000000000000000000000\n",
      "3 =1.4142156862745096645994635764509439468383789062500000000000000000000000000000000000000000000000000000\n",
      "4 =1.4142135623746898698271934335934929549694061279296875000000000000000000000000000000000000000000000000\n",
      "5 =1.4142135623730949234300169337075203657150268554687500000000000000000000000000000000000000000000000000\n"
     ]
    }
   ],
   "source": [
    "NewtonSqRoot(2, 100)\n"
   ]
  },
  {
   "cell_type": "markdown",
   "metadata": {},
   "source": [
    "#### Babylonian method\n",
    "One of the algorithms used for approximating square roof of S is the Babylonian method, despite there being no direct evidence, beyond informed conjecture, that the eponymous Babylonian mathematicians employed exactly this method.[1.1] The basic idea is that if x is an overestimate to the square root of a non-negative real number S then S/x will be an underestimate, or vice versa, and so the average of these two numbers may reasonably be expected to provide a better approximation. This is equivalent to using Newton's method to solve x^2-S=0."
   ]
  },
  {
   "cell_type": "code",
   "execution_count": 27,
   "metadata": {},
   "outputs": [
    {
     "name": "stdout",
     "output_type": "stream",
     "text": [
      "x =1.5000000000000000000000000000000000000000000000000000000000000000000000000000000000000000000000000000\n",
      "x =1.4166666666666665186369300499791279435157775878906250000000000000000000000000000000000000000000000000\n",
      "x =1.4142156862745096645994635764509439468383789062500000000000000000000000000000000000000000000000000000\n",
      "x =1.4142135623746898698271934335934929549694061279296875000000000000000000000000000000000000000000000000\n",
      "x =1.4142135623730949234300169337075203657150268554687500000000000000000000000000000000000000000000000000\n",
      "Approximate square root of  2 with 100 decimal places  = 1.4142135623730949234300169337075203657150268554687500000000000000000000000000000000000000000000000000\n"
     ]
    }
   ],
   "source": [
    "# function to calculate square root using Babylonian method\n",
    "\n",
    "def BabyloniansquareRoot(n, DP): \n",
    "    x = n; \n",
    "    # sets the initial guess as 1\n",
    "    y = 1; \n",
    "    \n",
    "    \n",
    "    while(x > y): \n",
    "\n",
    "        x = (x + y) / 2; \n",
    "        y = n / x; \n",
    "        print(\"x\",\"={:.{}f}\".format(x, DP));\n",
    "  \n",
    "    return x;\n",
    "\n",
    "#print(\"root of\", n, \"is\", squareRoot(n)); \n",
    "print(\"Approximate square root of \", n ,\"with 100 decimal places \", \"= {:.{}f}\".format(squareRoot(n), 100))"
   ]
  },
  {
   "cell_type": "code",
   "execution_count": 28,
   "metadata": {},
   "outputs": [
    {
     "name": "stdout",
     "output_type": "stream",
     "text": [
      "x =1.5000000000000000000000000000000000000000000000000000000000000000000000000000000000000000000000000000\n",
      "x =1.4166666666666665186369300499791279435157775878906250000000000000000000000000000000000000000000000000\n",
      "x =1.4142156862745096645994635764509439468383789062500000000000000000000000000000000000000000000000000000\n",
      "x =1.4142135623746898698271934335934929549694061279296875000000000000000000000000000000000000000000000000\n",
      "x =1.4142135623730949234300169337075203657150268554687500000000000000000000000000000000000000000000000000\n"
     ]
    },
    {
     "data": {
      "text/plain": [
       "1.414213562373095"
      ]
     },
     "execution_count": 28,
     "metadata": {},
     "output_type": "execute_result"
    }
   ],
   "source": []
  },
  {
   "cell_type": "markdown",
   "metadata": {},
   "source": [
    "#### References:\n",
    "\n",
    "[1.1] Square Root Definition; https://en.wikipedia.org/wiki/Square_root\n",
    "[1.2] Methods of calculating Square root; https://en.wikipedia.org/wiki/Methods_of_computing_square_roots\n",
    "[1.3] Newton't Method; https://surajregmi.medium.com/how-to-calculate-the-square-root-of-a-number-newton-raphson-method-f8007714f64\n"
   ]
  },
  {
   "cell_type": "code",
   "execution_count": null,
   "metadata": {},
   "outputs": [],
   "source": []
  },
  {
   "cell_type": "code",
   "execution_count": null,
   "metadata": {},
   "outputs": [],
   "source": []
  }
 ],
 "metadata": {
  "file_extension": ".py",
  "kernelspec": {
   "display_name": "Python 3",
   "language": "python",
   "name": "python3"
  },
  "language_info": {
   "codemirror_mode": {
    "name": "ipython",
    "version": 3
   },
   "file_extension": ".py",
   "mimetype": "text/x-python",
   "name": "python",
   "nbconvert_exporter": "python",
   "pygments_lexer": "ipython3",
   "version": "3.8.5"
  },
  "mimetype": "text/x-python",
  "name": "python",
  "npconvert_exporter": "python",
  "pygments_lexer": "ipython3",
  "version": 3
 },
 "nbformat": 4,
 "nbformat_minor": 2
}
