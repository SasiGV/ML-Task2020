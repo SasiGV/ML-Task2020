{
 "cells": [
  {
   "cell_type": "markdown",
   "metadata": {},
   "source": [
    "## Machine Learning - Tasks 2020"
   ]
  },
  {
   "cell_type": "markdown",
   "metadata": {},
   "source": [
    "### Task 1 - Square Root\n",
    "\n",
    "Write a Python function called sqrt2 that calculates and prints to the screen the square root of 2 to 100 decimal places. Your code should not depend on any module from the standard library1 or otherwise. You should research the task first and include references and a description of your algorithm.\n"
   ]
  },
  {
   "cell_type": "markdown",
   "metadata": {},
   "source": [
    "#### Square Root\n",
    "\n",
    "In mathematics, a square root of a number x is a number y such that y2 = x; in other words, a number y whose square (the result of multiplying the number by itself, or y ⋅ y) is x.[1.1]"
   ]
  },
  {
   "cell_type": "markdown",
   "metadata": {},
   "source": [
    "#### Methods of computing Square roots\n",
    "\n",
    "Methods of computing square roots are numerical analysis algorithms for finding the principal, or non-negative, square root (usually denoted √S, 2√S, or S1/2) of a real number. Arithmetically, it means given S, a procedure for finding a number which when multiplied by itself, yields S; algebraically, it means a procedure for finding the non-negative root of the equation x2 - S = 0; geometrically, it means given the area of a square, a procedure for constructing a side of the square.\n",
    "\n",
    "Every real number has two square roots.In addition to the principal square root, there is a negative square root equal in magnitude but opposite in sign to the principal square root, except for zero, which has double square roots of zero. The principal square root of most numbers is an irrational number with an infinite decimal expansion. As a result, the decimal expansion of any such square root can only be computed to some finite-precision approximation. However, even if we are taking the square root of a perfect square integer, so that the result does have an exact finite representation, the procedure used to compute it may only return a series of increasingly accurate approximations.\n",
    "\n",
    "The most common analytical methods are iterative and consist of two steps: finding a suitable starting value, followed by iterative refinement until some termination criteria is met. The starting value can be any number, but fewer iterations will be required the closer it is to the final result. The most familiar such method, most suited for programmatic calculation, is Newton's method, which is based on a property of the derivative in the calculus. "
   ]
  },
  {
   "cell_type": "markdown",
   "metadata": {},
   "source": [
    "#### Newton's method \n",
    "Newton’s method, also known as Newton-Raphson method is a root-finding algorithm that produces successively better approximations of the roots of a real-valued function. The approximations of the root go as:\n",
    "x_(n+1) = x_n - f(x_n) / f’(x_n)\n",
    "x_0 is the rough approximation of the root done at the first and the successive approximations go as x_1, x_2, ….\n",
    "f(x_n) is the function whose root is to be determined and f’(x_n) is the derivative of the function.[1.3]\n"
   ]
  },
  {
   "cell_type": "code",
   "execution_count": 1,
   "metadata": {},
   "outputs": [],
   "source": [
    "# Function to calculate square root using Newton't method\n",
    "# Sample code taken from https://www.instructables.com/Python-Programming-calculating-Newtons-Method/\n",
    "\n",
    "# n - used to get input from user\n",
    "# DP - used to define the number of decimal places\n",
    "def NewtonSqRoot(n, DP):\n",
    "    \n",
    "    #set the loop counter\n",
    "    i = 1\n",
    "    x = n\n",
    "    \n",
    "    # Set the initial guess for the square root \n",
    "    y = (x + 1) / 2\n",
    "    \n",
    "    # loop will run until the new guess is less than the previous guess\n",
    "    while y < x:\n",
    "        x = y\n",
    "        y = (x + (n / x)) / 2\n",
    "        \n",
    "        print(i, \"={:.{}f}\".format(x, DP))\n",
    "        i += 1\n",
    "    "
   ]
  },
  {
   "cell_type": "code",
   "execution_count": 2,
   "metadata": {},
   "outputs": [
    {
     "name": "stdout",
     "output_type": "stream",
     "text": [
      "1 =1.5000000000000000000000000000000000000000000000000000000000000000000000000000000000000000000000000000\n",
      "2 =1.4166666666666665186369300499791279435157775878906250000000000000000000000000000000000000000000000000\n",
      "3 =1.4142156862745096645994635764509439468383789062500000000000000000000000000000000000000000000000000000\n",
      "4 =1.4142135623746898698271934335934929549694061279296875000000000000000000000000000000000000000000000000\n",
      "5 =1.4142135623730949234300169337075203657150268554687500000000000000000000000000000000000000000000000000\n"
     ]
    }
   ],
   "source": [
    "NewtonSqRoot(2, 100)\n"
   ]
  },
  {
   "cell_type": "markdown",
   "metadata": {},
   "source": [
    "#### Babylonian method\n",
    "One of the algorithms used for approximating square roof of S is the Babylonian method, despite there being no direct evidence, beyond informed conjecture, that the eponymous Babylonian mathematicians employed exactly this method.[1.1] The basic idea is that if x is an overestimate to the square root of a non-negative real number S then S/x will be an underestimate, or vice versa, and so the average of these two numbers may reasonably be expected to provide a better approximation. This is equivalent to using Newton's method to solve x^2-S=0."
   ]
  },
  {
   "cell_type": "code",
   "execution_count": 3,
   "metadata": {},
   "outputs": [],
   "source": [
    "# function to calculate square root using Babylonian method\n",
    "# Sample code taken from https://www.geeksforgeeks.org/square-root-of-a-perfect-square/\n",
    "\n",
    "def BabyloniansquareRoot(n, DP): \n",
    "    x = n; \n",
    "    # sets the initial guess as 1\n",
    "    y = 1; \n",
    "    \n",
    "    # set Loop counter\n",
    "    i = 1\n",
    "    \n",
    "    # Loop will continue until the new guess is smaller than the previous guess\n",
    "    while(x > y): \n",
    "\n",
    "        x = (x + y) / 2; \n",
    "        y = n / x; \n",
    "        print(i,\"={:.{}f}\".format(x, DP));\n",
    "        i += 1\n",
    "\n",
    "\n"
   ]
  },
  {
   "cell_type": "code",
   "execution_count": 4,
   "metadata": {},
   "outputs": [
    {
     "name": "stdout",
     "output_type": "stream",
     "text": [
      "1 =1.5000000000000000000000000000000000000000000000000000000000000000000000000000000000000000000000000000\n",
      "2 =1.4166666666666665186369300499791279435157775878906250000000000000000000000000000000000000000000000000\n",
      "3 =1.4142156862745096645994635764509439468383789062500000000000000000000000000000000000000000000000000000\n",
      "4 =1.4142135623746898698271934335934929549694061279296875000000000000000000000000000000000000000000000000\n",
      "5 =1.4142135623730949234300169337075203657150268554687500000000000000000000000000000000000000000000000000\n"
     ]
    }
   ],
   "source": [
    "BabyloniansquareRoot(2,100)"
   ]
  },
  {
   "cell_type": "markdown",
   "metadata": {},
   "source": [
    "#### Digit by Digit Method\n",
    "This is a method to find each digit of the square root in a sequence. It is slower than the Babylonian method, but it has several advantages:\n",
    "\n",
    "- It can be easier for manual calculations.\n",
    "- Every digit of the root found is known to be correct, i.e., it does not have to be changed later.\n",
    "- If the square root has an expansion that terminates, the algorithm terminates after the last digit is found. Thus, it can be used to check whether a given integer is a square number.\n",
    "- The algorithm works for any base, and naturally, the way it proceeds depends on the base chosen.\n",
    "Napier's bones include an aid for the execution of this algorithm. The shifting nth root algorithm is a generalization of this method. [1.5]\n",
    "\n",
    "\n",
    "\n"
   ]
  },
  {
   "cell_type": "code",
   "execution_count": 5,
   "metadata": {},
   "outputs": [],
   "source": [
    "# function to calculate square root using Digit by Digit method\n",
    "# from http://stackoverflow.com/questions/15390807/integer-square-root-in-python\n",
    "def isqrt(n):\n",
    "    \n",
    "    x = n\n",
    "    # Initial guess for the largest integer square root\n",
    "    # equals slightly more than half of n to make sure the next guess progresses in the right\n",
    "    # direction when near n is near 1 and avoids halving even numbers\n",
    "    y = (x + 1) // 2\n",
    "    # loop until new guess is larger than previous guess \n",
    "    while y < x:\n",
    "        x = y\n",
    "        #reduce the next guess integer until the next guess is larger than the previous guess\n",
    "        y = (x + n // x) // 2\n",
    "    # return the largest guess as result\n",
    "    return x\n",
    "\n",
    "\n",
    "def DigitSquareRoot(n,DP):\n",
    "# n is a variable to store the number we want to get the square root of.\n",
    "\n",
    "    # Declare the output string\n",
    "    Strresult = \"\"\n",
    "    \n",
    "    #s = \"0\"\n",
    "    # when the given number is a float separate the whole number  and decimal points in to two lists\n",
    "    # code adapted from https://www.w3schools.com/python/ref_string_split.asp\n",
    "    if type(n) != int:\n",
    "        #When the given number is float then we can separate left and right hand array by spliting it with the decimal point\n",
    "        strSplit = str(n).split(\".\")\n",
    "    else:\n",
    "        # When the given number is not float we can add the decimal point with two zeros to produce array for right hand side\n",
    "        s = str(n) + \".00\"\n",
    "        strSplit = str(s).split(\".\")\n",
    "\n",
    "    #Now arranging the splited numbers into a list    \n",
    "    LeftArray = [int(x) for x in strSplit[0]]\n",
    "    RightArray = [int(x) for x in strSplit[1]]\n",
    "\n",
    "    # Adding zeros to make the left array with minimum two digits        \n",
    "    if len(LeftArray)%2==1:\n",
    "        LeftArray.insert(0,0)\n",
    "        \n",
    "    # Adding zeros to the Right hand array based on the requested decimal point \n",
    "    if len(RightArray)<2*DP:\n",
    "        for i in range(2*DP-len(RightArray)):\n",
    "            RightArray.append(0)\n",
    "            \n",
    "    if len(RightArray)%2==1:\n",
    "        RightArray.append(0)\n",
    "        \n",
    "\n",
    "    # Below makes the pairs of digits required in the algorithm\n",
    "    pairs=[[10*LeftArray[2*i]+LeftArray[2*i+1] for i in range(int(len(LeftArray)/2))],[10*RightArray[2*i]+RightArray[2*i+1] for i in range(int(len(RightArray)/2))]]\n",
    "\n",
    "    # part of the square root of n already found - setting default value\n",
    "    p=0\n",
    "    # remainder from previous calculation - setting default value\n",
    "    r=0\n",
    "    # setting the default list for the square root list\n",
    "    square_root=[[],[],\"+\"]\n",
    "    for i in range(len(pairs[0])):\n",
    "        # Extract next paired digit list and add remainder\n",
    "        # from previous run which is 100 times larger scale\n",
    "        c = 100 * r + pairs[0][i]\n",
    "        # Calculate next integer digit of the square root\n",
    "        x = (-20 * p + isqrt(400 * p ** 2 + 4 * c)) // 2\n",
    "        # Calculate remainder r \n",
    "        r = c - (20 * p * x + x ** 2)\n",
    "        # Add the next digit to the known part of the square root\n",
    "        p = 10 * p + x\n",
    "        # Append x  to the result list\n",
    "        square_root[0].append(x)\n",
    "\n",
    "    for i in range(len(pairs[1])):\n",
    "        # Extract next paired digit list and add remainder\n",
    "        # from previous run which is 100 times larger scale\n",
    "        c = 100 * r + pairs[1][i]\n",
    "        # Calculate next integer digit of the square root\n",
    "        x = (-20 * p + isqrt(400 * p ** 2 + 4 * c)) // 2\n",
    "        # Calculate remainder r \n",
    "        r = c - (20 * p * x + x ** 2)\n",
    "        # Add the next digit to the known part of the square root\n",
    "        p = 10 * p + x\n",
    "        # Append x  to the result list\n",
    "        square_root[1].append(x)\n",
    "\n",
    "    #concatinate the list values to get the final result\n",
    "    #https://www.techbeamers.com/python-convert-list-string/\n",
    "    Strresult1 = ''.join( str(x) for x in square_root[0])\n",
    "    Strresult2 = ''.join( str(x) for x in square_root[1])\n",
    "    Strresult=Strresult1+'.'+Strresult2\n",
    "    print(f\"The square root of '{n}' using Digit by Digit method with '{DP}' decimal places :\")\n",
    "    print(Strresult)\n",
    "    \n",
    "\n",
    "#print(DigitSquareRoot(2,100))"
   ]
  },
  {
   "cell_type": "code",
   "execution_count": 6,
   "metadata": {},
   "outputs": [
    {
     "name": "stdout",
     "output_type": "stream",
     "text": [
      "Newton Method\n",
      "1 =1.5000000000000000000000000000000000000000000000000000000000000000000000000000000000000000000000000000\n",
      "2 =1.4166666666666665186369300499791279435157775878906250000000000000000000000000000000000000000000000000\n",
      "3 =1.4142156862745096645994635764509439468383789062500000000000000000000000000000000000000000000000000000\n",
      "4 =1.4142135623746898698271934335934929549694061279296875000000000000000000000000000000000000000000000000\n",
      "5 =1.4142135623730949234300169337075203657150268554687500000000000000000000000000000000000000000000000000\n",
      "\n",
      "Babylonian Method\n",
      "1 =1.5000000000000000000000000000000000000000000000000000000000000000000000000000000000000000000000000000\n",
      "2 =1.4166666666666665186369300499791279435157775878906250000000000000000000000000000000000000000000000000\n",
      "3 =1.4142156862745096645994635764509439468383789062500000000000000000000000000000000000000000000000000000\n",
      "4 =1.4142135623746898698271934335934929549694061279296875000000000000000000000000000000000000000000000000\n",
      "5 =1.4142135623730949234300169337075203657150268554687500000000000000000000000000000000000000000000000000\n",
      "\n",
      "Digit by Digit Method\n",
      "The square root of '2' using Digit by Digit method with '100' decimal places :\n",
      "1.4142135623730950488016887242096980785696718753769480731766797379907324784621070388503875343276415727\n"
     ]
    }
   ],
   "source": [
    "#Compare the results from the above methods\n",
    "print(\"Newton Method\")\n",
    "NewtonSqRoot(2, 100)\n",
    "\n",
    "print(\"\")\n",
    "print(\"Babylonian Method\")\n",
    "BabyloniansquareRoot(2,100)\n",
    "\n",
    "print(\"\")\n",
    "print(\"Digit by Digit Method\")\n",
    "DigitSquareRoot(2,100)"
   ]
  },
  {
   "cell_type": "markdown",
   "metadata": {},
   "source": [
    "#### References:\n",
    "\n",
    "[1.1] Square Root Definition; https://en.wikipedia.org/wiki/Square_root\n",
    "[1.2] Methods of calculating Square root; https://en.wikipedia.org/wiki/Methods_of_computing_square_roots\n",
    "[1.3] Newton't Method; https://surajregmi.medium.com/how-to-calculate-the-square-root-of-a-number-newton-raphson-method-f8007714f64\n",
    "[1.4] Math functions Basic Square root; https://www.mathsisfun.com/square-root.html\n",
    "[1.5] Digit by Digit method of Square root calculation ; https://en.wikipedia.org/wiki/Methods_of_computing_square_roots#Digit-by-digit_calculation\n"
   ]
  },
  {
   "cell_type": "markdown",
   "metadata": {},
   "source": [
    "### Task 2: : Chi-squared Test for Independence"
   ]
  },
  {
   "cell_type": "markdown",
   "metadata": {},
   "source": [
    "#### Task Description: \n",
    "Using scipy.stats verify the Chi-squared test value of ~24.6 for the given table example and calculate the associated independence test p value. Justify the analysis of test."
   ]
  },
  {
   "cell_type": "markdown",
   "metadata": {},
   "source": [
    "##### Research\n",
    "##### Chi-squared test\n",
    "\n",
    "The chi-squared test procedure can be used to find the significant association between two or more set of data by comparing the actual data to an expected set of data [2.1].Theory of Hypotheses states that it can be of Null or alternative. Null Hypotheses- where the data sets are independent and Alternative Hypotheses- data sets are NOT independent [2.2].\n",
    "\n",
    "\n",
    "Chi-squared test procedure should satisfy the below mandatory conditions:[2.2]\n",
    "- The sampling method is simple random sampling\n",
    "- The variables are categorised\n",
    "- The sample data set are presented in a table format, minimum expectation to have at least 5 frequency count.\n"
   ]
  },
  {
   "cell_type": "markdown",
   "metadata": {},
   "source": [
    "Example of chi-squared test for independence\n",
    "In the example [4] from the Wikipedia article [2.1] explains the Null Hypotheses- Analyse whether two category variables (Data sets) are independent? Here we have used Variable 1 as residents in a city with four neighbourhoods: A, B, C, D, and Variable 2 as occupation logged based on various collar colours like WHITE, BLUE, NO COLLAR.\n"
   ]
  },
  {
   "cell_type": "markdown",
   "metadata": {},
   "source": [
    "![Chi Square Example](images/Chi_Square_example.jpg)"
   ]
  },
  {
   "cell_type": "markdown",
   "metadata": {},
   "source": [
    "From the above table, the two categorical variables variable 1-Neighborhood with possible values (A,B,C,D) and variable 2 - Occupation with possible values (White Collar, Blue Collar, No Collar). The numbers is each cell contain the observer frequencies, corresponding to the intersection of the two variables. We will use Che-Squared test of independence to check for a statistically significant relationship between the two variables residents and occupation. For the above table there are only random sample of 650 residents of the city has been taken and the total numbe rof residence in the city could be more than a Million. \n"
   ]
  },
  {
   "cell_type": "markdown",
   "metadata": {},
   "source": [
    "The Chi Square statistic is commonly used for testing realtionships between categorical variables. The null hypothesis of the Chi-Square test is that no relationship exists on the categorical variables in the poplulation. Calculating the Chi-Square statistic and comparing it against a critical value from the Chi-Square distribution allows the researcher to assess whether the observed cell counts are significantly different from the expected cell counts.[2.3]\n"
   ]
  },
  {
   "cell_type": "code",
   "execution_count": null,
   "metadata": {},
   "outputs": [],
   "source": []
  },
  {
   "cell_type": "markdown",
   "metadata": {},
   "source": [
    "##### Procedure to perform Chi-Squared test\n",
    "#####  ⦁ Step 1. Calculate the chi square value\n",
    "Calculate \"Expected Value\" for each entry: Multiply each row total by each column total and divide by the overall total:\n"
   ]
  },
  {
   "cell_type": "markdown",
   "metadata": {},
   "source": [
    "![Step1](images/Chi_square_1.jpg)\n"
   ]
  },
  {
   "cell_type": "markdown",
   "metadata": {},
   "source": [
    "which gives us"
   ]
  },
  {
   "cell_type": "markdown",
   "metadata": {},
   "source": [
    "![Chi_Square2](images/Chi_square_2.jpg)"
   ]
  },
  {
   "cell_type": "markdown",
   "metadata": {},
   "source": [
    "The formula for the test statistic is: (O-E)^2 / E \n",
    "O = Observed (actual) value, E = Expected value\n",
    "For neighbourhood A, white color the value comes from (90-80.54)2 /80.54 = 1.11\n",
    "Which gives us:"
   ]
  },
  {
   "cell_type": "markdown",
   "metadata": {},
   "source": [
    "![Chi_Square2](images/Chi_square_3.jpg)"
   ]
  },
  {
   "cell_type": "markdown",
   "metadata": {},
   "source": [
    "As per the above table, the test statistic is calculated for each cell and the sum over all cells is the test statistic. Now add up those calculated values to calculate Chi-Square = 24.57\n",
    "\n",
    "The test statistic has approximately a Chi-Squared distribution whose number of degrees of freedom is calculated below.\n",
    "\n",
    "##### . Step 2. Calculate the Degree of Freedom\n",
    "\n",
    "Degree of Freedom = (rows − 1) × (columns − 1)\n",
    "For our example we have 2 rows and 2 columns: DoF = (3 − 1) × (4 − 1) = 2×3 = 6\n",
    "\n",
    "##### . Step 3. Calculate the P value.\n",
    "P value calculated through chi – square test calculator [2.4]\n",
    "P-value (p) = 0.000404855. \n",
    "\n",
    "The measured test statistic is evaluated by comparing it against some critical value in the Che-Squared distribution. The Degree of Freedom and the test statistic are combined to calculate p-value as above and the value is p-0.000404855. The usual test for significance is a p-value <0.5: if p<0.05, the result is significant, we reject the null hypothesis and we cannot assume that the categorical variables are independent. It is possible to chose a lower significance level, meaning that you require more evidence ot reject the null hypothesis."
   ]
  },
  {
   "cell_type": "markdown",
   "metadata": {},
   "source": [
    "### Test Chi-Square using SciPy\n",
    "#### Import required packages"
   ]
  },
  {
   "cell_type": "code",
   "execution_count": 7,
   "metadata": {},
   "outputs": [],
   "source": [
    "# For statistics\n",
    "import scipy.stats as ss\n",
    "# For plotting\n",
    "import matplotlib.pyplot as plt\n",
    "plt.rcParams['figure.figsize'] = (10.0, 8.0) # Make nice big figures"
   ]
  },
  {
   "cell_type": "code",
   "execution_count": 8,
   "metadata": {},
   "outputs": [
    {
     "name": "stdout",
     "output_type": "stream",
     "text": [
      "Chi-Square Sample Table\n",
      "[[90, 60, 104, 95], [30, 50, 51, 20], [30, 40, 45, 35]]\n",
      "\n",
      "Test statistic = 24.571\n",
      "Degrees of freedom = 6\n",
      "p-value = 0.00041\n",
      "\n",
      "Table of expected frequency values:\n",
      "[[ 80.53846154  80.53846154 107.38461538  80.53846154]\n",
      " [ 34.84615385  34.84615385  46.46153846  34.84615385]\n",
      " [ 34.61538462  34.61538462  46.15384615  34.61538462]]\n",
      "\n",
      "probability = 0.900, critical = 10.645, stat = 24.571\n"
     ]
    }
   ],
   "source": [
    "# Create the Chi-Square test table from the question\n",
    "# Code taken from https://machinelearningmastery.com/critical-values-for-statistical-hypothesis-testing/\n",
    "\n",
    "white = [90, 60, 104, 95] # Array containing Row 1 of the table\n",
    "blue = [30, 50, 51, 20] # Row 2 of the table\n",
    "none = [30, 40, 45, 35] # Row 3 of the table\n",
    "Chitable = [white, blue, none]\n",
    "print('Chi-Square Sample Table')\n",
    "print(Chitable)\n",
    "\n",
    "# Calculate test statistic, p-value, degrees of freedom, and expected values.\n",
    "stat, p, dof, expected = ss.chi2_contingency(Chitable)\n",
    "print('\\nTest statistic = %.3f' % stat)\n",
    "print('Degrees of freedom = %d' % dof)\n",
    "print(f'p-value = {p:.5f}')\n",
    "print('\\nTable of expected frequency values:')\n",
    "print(expected)\n",
    "\n",
    "# Chose a significance level: 10%\n",
    "prob = 0.90\n",
    "\n",
    "# Percent point function (inverse of cdf — percentiles).\n",
    "# Given our chosen significance level (10%), calculate the critical value of the test statistic\n",
    "# using the ppf of a chi2 distribution.\n",
    "critical = ss.chi2.ppf(prob, dof)\n",
    "print('\\nprobability = %.3f, critical = %.3f, stat = %.3f' % (prob, critical, stat))"
   ]
  },
  {
   "cell_type": "markdown",
   "metadata": {},
   "source": [
    "from the chosen 10% significance level, p-value is calculated as 0.00041 for our hypothesis test. Since the p-value is <0.05, we must reject the null hypothesis and we cannot say that there is a relationship between Occupation and Neighborhood. \n",
    "In terms of crtical values, we have calculated the critical value of 10.645 and the test statistic of 24.571. As out calculated test statistic is > the critical value, we must reject the null hypothesis. The critical value is an alternative method of p-value to test the same. \n",
    "\n",
    "So based on the above calculation and analysis, the value of the Chi-Squared test statistic for the provided contingency table is 24.571. This corresponds to a p-value of 0.00041 at a significance level of 10%. So we can reject the null hypothesis that the categorical  variables are not dependent. \n"
   ]
  },
  {
   "cell_type": "code",
   "execution_count": null,
   "metadata": {},
   "outputs": [],
   "source": []
  },
  {
   "cell_type": "code",
   "execution_count": null,
   "metadata": {},
   "outputs": [],
   "source": []
  },
  {
   "cell_type": "markdown",
   "metadata": {},
   "source": [
    "References :\n",
    " - [2.1] Chi-square test; Wikipedia; https://en.wikipedia.org/w/index.php?title=Chi-squaredtest&oldid=983024096\n",
    " - [2.2] Chi-Square Test for Independence; Stat Trek.com; https://stattrek.com/chi-square-test/independence.aspx\n",
    " - [2.3] Using Chi-Square Statistic in Research, https://www.statisticssolutions.com/using-chi-square-statistic-in-research/\n",
    " - [2.4] Chi-Square Test, Math is Fun, https://www.mathsisfun.com/data/chi-square-calculator.html\n",
    " - [2.5] Scipy References, https://docs.scipy.org/doc/scipy/reference/stats.html"
   ]
  },
  {
   "cell_type": "markdown",
   "metadata": {},
   "source": [
    "### Task 3: Microsoft Excel methods for Standard Deviation\n",
    "##### Task Description: \n",
    "Research, review and compare two Microsoft Excel functions for Standard Deviation STDEV.P and STDEV.S. Use python numpy simulation to demonstrate that the STDEV.S calculation function is a better estimate for standard deviation of a population when performed on a sample.\n"
   ]
  },
  {
   "cell_type": "markdown",
   "metadata": {},
   "source": [
    "##### Research\n",
    "###### Standard Deviation\n",
    "The standard deviation measures the distribution of a dataset relative to its mean and is calculated as the square root of the variance. The symbol for standard deviation is σ (sigma) calculated as the square root of averaged square differences from the Mean [3.1]. There are two standard deviations - Population standard deviation (1) and Sample standard deviation (2), which are calculated differently according to the dataset [3.2, 3.3]\n"
   ]
  },
  {
   "cell_type": "markdown",
   "metadata": {},
   "source": [
    "![formula](images/Task3.png)\n"
   ]
  },
  {
   "cell_type": "markdown",
   "metadata": {},
   "source": [
    "##### When to use the sample or population standard deviation\n",
    "Population standard deviation (1) are often used when all the values refers to the entire population interested in and sample standard deviation (2) are used when values refers to the sample. Sometimes confusion can often occur to find which standard deviation to use for above cases, but it depends on what outcome is expected at the end result. Refer below example to understand the different standard deviation cases. [3.2]\n",
    "Example: To measure existing consumer opinion on a product/service, use population standard deviation to provide more quantifiable reliable number. Nevertheless in case of new experiment to attract new consumer, then sample standard deviation is a best choice, because sample result can be categorized based on gender, age and locations.\n",
    "\n",
    "\n",
    "##### Microsoft Excel STDEV.P function\n",
    "To calculate the standard deviation for an entire population data, Microsoft excel provides STDEV.P function. The results are accurate because all data are available. Also in some cases of sample data, and only want standard deviation for the sample, without generalising for the entire population, even in those cases STDEV.P function can be used [3.4]\n",
    "\n",
    "##### Microsoft Excel STDEV.S function\n",
    "To calculate the standard deviation for a sample data, STDEV.S function can be used. The results are estimates and therefore not as accurate. The STDEV.S function uses Bessel’s corrections to work on sample data to provide better estimates of the standard deviation. Here the Bessel’s corrections appears in the formula as n-1, where n is the count [3.4].\n",
    "\n",
    "###### Constraints:\n",
    " - Data is completely numeric.\n",
    " - Empty cells, logical values, text, or error values in the array or reference are ignored [3.5].\n",
    " - The deviation for a single value is zero[3.6]\n",
    " \n",
    "###### Procedure to perform standard deviation methods\n",
    " - Analyse of the data to be estimated using available standard deviation methods.\n",
    " - Analyse and compare the STDEV.P method and STDEV.S method\n",
    " - Evaluate Standard Deviation of a population while performed on a sample\n",
    "\n"
   ]
  },
  {
   "cell_type": "markdown",
   "metadata": {},
   "source": [
    "#### Test Cases"
   ]
  },
  {
   "cell_type": "code",
   "execution_count": 19,
   "metadata": {},
   "outputs": [],
   "source": [
    "\n",
    "# Import numpy module for testing\n",
    "import numpy as np\n",
    "\n",
    "# Import pyplot for plotting\n",
    "import matplotlib.pyplot as plt\n",
    "# Change figure size. Code adapted from https://stackoverflow.com/a/41717533\n",
    "plt.rcParams[\"figure.figsize\"] = (8,8)"
   ]
  },
  {
   "cell_type": "code",
   "execution_count": 20,
   "metadata": {},
   "outputs": [
    {
     "data": {
      "image/png": "[encoded data removed]",
      "text/plain": [
       "<Figure size 576x576 with 1 Axes>"
      ]
     },
     "metadata": {
      "needs_background": "light"
     },
     "output_type": "display_data"
    }
   ],
   "source": [
    "# Test case: Define population mean, standard standard deviation and population size\n",
    "mean = 50\n",
    "sd = 5\n",
    "pop_size = 1000\n",
    "\n",
    "# Create an array of normal distributed values to represent population and convert to integers. Code adapted from\n",
    "# https://docs.scipy.org/doc/numpy-1.15.1/reference/generated/numpy.random.normal.html\n",
    "# and https://numpy.org/doc/stable/reference/generated/numpy.ndarray.astype.html\n",
    "pop = np.random.normal(mean,sd,pop_size).astype(int)\n",
    "\n",
    "# Display array. Code adapted from https://matplotlib.org/3.3.3/api/_as_gen/matplotlib.pyplot.hist.html\n",
    "figure = plt.hist(pop, bins=25)\n",
    "\n",
    "plt.title(\"Distribution of population\", fontsize = 16)\n",
    "plt.show()"
   ]
  },
  {
   "cell_type": "code",
   "execution_count": 21,
   "metadata": {},
   "outputs": [
    {
     "name": "stdout",
     "output_type": "stream",
     "text": [
      "For 1000 population size set with SD of 5, 'N' method SD is  4.818.\n"
     ]
    }
   ],
   "source": [
    "# Define function to calculate the standard deviation of population using the 'N' method\n",
    "# Code adapted from https://numpy.org/doc/stable/reference/generated/numpy.mean.html\n",
    "# https://numpy.org/doc/stable/reference/generated/numpy.square.html and\n",
    "# https://numpy.org/doc/stable/reference/generated/numpy.sqrt.html and\n",
    "# https://www.w3resource.com/python-exercises/numpy/python-numpy-exercise-16.php\n",
    "def sdp(pop):\n",
    "    \"\"\"Function to calculate the standard deviation\n",
    "        of a population using the 'N' method\n",
    "        \"\"\"\n",
    "    return np.sqrt(np.sum(np.square(pop - np.mean(pop)))/pop.size)\n",
    "\n",
    "# Calculate the standard deviation of the whole population using the 'N' method\n",
    "sd_p = sdp(pop)\n",
    "\n",
    "# Display whole population SD result\n",
    "print(f\"\"\"For {pop.size} population size set with SD of {sd}, 'N' method SD is {sd_p:6.3f}.\"\"\")"
   ]
  },
  {
   "cell_type": "code",
   "execution_count": 23,
   "metadata": {},
   "outputs": [
    {
     "data": {
      "image/png": "[encoded data removed]",
      "text/plain": [
       "<Figure size 576x576 with 1 Axes>"
      ]
     },
     "metadata": {
      "needs_background": "light"
     },
     "output_type": "display_data"
    }
   ],
   "source": [
    "# Take a 10% sample from the population\n",
    "sam_prop = 0.1\n",
    "\n",
    "# Code adapted from https://docs.scipy.org/doc/numpy-1.15.0/reference/generated/numpy.random.choice.html#numpy.random.choice\n",
    "sample_population = np.random.choice(pop, size=int(sam_prop*pop.size), replace=False)\n",
    "\n",
    "# Display array. Code adapted from https://matplotlib.org/3.3.3/api/_as_gen/matplotlib.pyplot.hist.html\n",
    "figure = plt.hist(sam_pop, bins=25)\n",
    "\n",
    "\n",
    "plt.title(\"Distribution of sample population\", fontsize = 16)\n",
    "plt.show()\n"
   ]
  },
  {
   "cell_type": "code",
   "execution_count": 24,
   "metadata": {},
   "outputs": [
    {
     "name": "stdout",
     "output_type": "stream",
     "text": [
      "For 10% sample size of population 1000,  'N' method SD is  4.592.\n",
      "For 10% sample size of population 1000, 'n-1' method SD is  4.615.\n",
      "\n"
     ]
    }
   ],
   "source": [
    "# Calculate the standard deviation of sample population using the 'N' method\n",
    "sample_sd_population = sdp(sample_population)\n",
    "\n",
    "# Display sample population SD result base\n",
    "print(f\"\"\"For {int((sample_population.size/pop.size)*100)}% sample size of population {pop.size},  'N' method SD is {sample_sd_population:6.3f}.\"\"\")\n",
    "\n",
    "# Define function to calculate the sample standard deviation of population using the 'n-1' method\n",
    "def sds(pop):\n",
    "# https://numpy.org/doc/stable/reference/generated/numpy.sqrt.html\n",
    "    \"\"\"Function to calculate the sample standard deviation\n",
    "        of a population using the 'n-1' method\n",
    "        \"\"\"\n",
    "    return np.sqrt(np.sum(np.square(pop - np.mean(pop)))/(pop.size-1))\n",
    "\n",
    "# Calculate the standard deviation of sample population using the 'n-1' method\n",
    "sd_s = sds(sample_population)\n",
    "\n",
    "# Display sample population SD result base\n",
    "print(f\"\"\"For {int((sample_population.size/pop.size)*100)}% sample size of population {pop.size}, 'n-1' method SD is {sd_s:6.3f}.\\n\"\"\")"
   ]
  },
  {
   "cell_type": "markdown",
   "metadata": {},
   "source": [
    "##### Numpy Stadard Deviation Calculations"
   ]
  },
  {
   "cell_type": "code",
   "execution_count": 26,
   "metadata": {},
   "outputs": [
    {
     "name": "stdout",
     "output_type": "stream",
     "text": [
      "SD of population  4.818\n",
      "SD of sample, 'N' method SD  4.592\n",
      "Sample SD, 'n-1' method SD  4.615\n"
     ]
    }
   ],
   "source": [
    "# test standard deviation function with numpy calculation Code adpated from [3.12] \n",
    "print(f\"SD of population {np.std(pop):6.3f}\")\n",
    "print(f\"SD of sample, 'N' method SD {np.std(sample_population):6.3f}\")\n",
    "print(f\"Sample SD, 'n-1' method SD {np.std(sample_population,ddof=1):6.3f}\")"
   ]
  },
  {
   "cell_type": "markdown",
   "metadata": {},
   "source": [
    "#### Conclusions\n",
    "\n",
    "For smaller population sizes and smaller percentage sample sizes, on average the Bessel's correction 'n-1' method for the sample standard deviation used in the MS Excel STDEV.S function does appear to produce a less bias standard deviation. The 'n-1' method is not without bias and on occasion can provide a less accurate estimate of standard deviation of the whole population.\n",
    "\n",
    "However, as both the population size and sample proportion size increase, the difference between sample 'N' and 'n-1' methods for the STDEV.S and STDEV.P Microsoft Excel functions become neglible making both results closer together."
   ]
  },
  {
   "cell_type": "code",
   "execution_count": null,
   "metadata": {},
   "outputs": [],
   "source": []
  },
  {
   "cell_type": "markdown",
   "metadata": {},
   "source": [
    "References:\n",
    "\n",
    "[3.1] Standard Deviation and Variance; Mathsisfun; https://www.mathsisfun.Com/data/ standard-deviation.html\n",
    "\n",
    "[3.2] Standard Deviation; Laerd statistics; https://statistics.laerd.com/statistical-guides/measu res-of-spread-standard-deviation.php\n",
    "\n",
    "[3.3]Population and sample standard deviation review; khanacademy; https://www .khanacademy.org/math/statistics-probability/summarizing-quantitative-data/variance-standard-deviation-sample/a/population-and-sample-standard-deviation-review#:~:text=Here's%20how%20to%20calculate%20sample,mean%20from%20each%20data%20point.&text=Step%205%3A%20Divide%20the%20sum%20by%20one%20less%20than%20the,data%20points%20in%20the%20sample\n",
    "\n",
    "[3.4] Standard deviation calculation; Exceljet; https://exceljet.net/formula/standard-deviation-calculation\n",
    "\n",
    "[3.5] Difference between STDEVPA and STDEVP functions; Microsoft support; https://docs.microsoft.com/en-us/office/troubleshoot/excel/statistical-functions-differences\n",
    "\n",
    "[3.6] Standard Deviation Functions; help.gooddata; \n",
    "https://help.gooddata.com/doc/en/ reporting-and-dashboards/maql-analytical-query-language/maql-expression-reference/aggregation-functions/statistical-functions/standard-deviation-functions\n",
    "\n",
    "[3.7] Mean and standard deviation, https://www.bmj.com/about-bmj/resources-readers/publications/statistics-square-one/2-mean-and-standard-deviation\n"
   ]
  },
  {
   "cell_type": "code",
   "execution_count": null,
   "metadata": {},
   "outputs": [],
   "source": []
  }
 ],
 "metadata": {
  "file_extension": ".py",
  "kernelspec": {
   "display_name": "Python 3",
   "language": "python",
   "name": "python3"
  },
  "language_info": {
   "codemirror_mode": {
    "name": "ipython",
    "version": 3
   },
   "file_extension": ".py",
   "mimetype": "text/x-python",
   "name": "python",
   "nbconvert_exporter": "python",
   "pygments_lexer": "ipython3",
   "version": "3.8.5"
  },
  "mimetype": "text/x-python",
  "name": "python",
  "npconvert_exporter": "python",
  "pygments_lexer": "ipython3",
  "version": 3
 },
 "nbformat": 4,
 "nbformat_minor": 2
}
